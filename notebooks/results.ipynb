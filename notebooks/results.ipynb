{
 "cells": [
  {
   "cell_type": "code",
   "execution_count": 30,
   "metadata": {},
   "outputs": [],
   "source": [
    "# import packages\n",
    "import matplotlib as mpl\n",
    "import matplotlib.pyplot as plt\n",
    "import numpy as np\n",
    "import pandas as pd\n",
    "import h5py"
   ]
  },
  {
   "cell_type": "code",
   "execution_count": 23,
   "metadata": {},
   "outputs": [],
   "source": [
    "# Read data\n",
    "\n",
    "def read_resumes(filepath):\n",
    "    records = []\n",
    "    \n",
    "    with h5py.File(filepath, 'r') as f:\n",
    "        for resumes_dset in f.values():\n",
    "            attrs = { k:v for k,v in resumes_dset.attrs.items() }\n",
    "            for row in resumes_dset:\n",
    "                record = { c:v for c,v in zip(attrs[\"columns\"], row) }\n",
    "                record = { **record, **{c:v for c,v in zip(attrs[\"geometry-attrs\"], attrs[\"geometry-parms\"])} }\n",
    "                record[\"geometry\"] = attrs['geometry-type']\n",
    "                records.append(record)\n",
    "    return records            "
   ]
  },
  {
   "cell_type": "code",
   "execution_count": 42,
   "metadata": {},
   "outputs": [
    {
     "data": {
      "image/png": "[encoded data removed]",
      "text/plain": [
       "<Figure size 432x288 with 1 Axes>"
      ]
     },
     "metadata": {},
     "output_type": "display_data"
    }
   ],
   "source": [
    "df = pd.DataFrame.from_records(read_resumes(\"../data/C2-H2.5/resumes.h5\"))\n",
    "\n",
    "with plt.style.context('ggplot'):\n",
    "    for (beta, by_beta) in df.groupby('beta'):\n",
    "        plt.errorbar(beta, by_beta['vortex_density'].mean(), yerr = by_beta['vortex_density'].std())"
   ]
  },
  {
   "cell_type": "code",
   "execution_count": null,
   "metadata": {},
   "outputs": [],
   "source": []
  }
 ],
 "metadata": {
  "kernelspec": {
   "display_name": "Python 3",
   "language": "python",
   "name": "python3"
  },
  "language_info": {
   "codemirror_mode": {
    "name": "ipython",
    "version": 3
   },
   "file_extension": ".py",
   "mimetype": "text/x-python",
   "name": "python",
   "nbconvert_exporter": "python",
   "pygments_lexer": "ipython3",
   "version": "3.7.5"
  }
 },
 "nbformat": 4,
 "nbformat_minor": 4
}
